{
 "cells": [
  {
   "cell_type": "code",
   "execution_count": 74,
   "id": "a0ba0fc7",
   "metadata": {},
   "outputs": [],
   "source": [
    "import pandas as pd\n",
    "import numpy as np\n",
    "from sklearn.model_selection import train_test_split\n",
    "# from keras.models import Sequential\n",
    "# from keras.optimizers import Adam\n",
    "# from keras.callbacks import ModelCheckpoint\n",
    "# from keras.layers import Lambda, Conv2D, MaxPooling2D, Dropout, Dense, Flatten\n",
    "from skimage import io\n",
    "import cv2\n",
    "from utils import INPUT_SHAPE, batch_generator\n",
    "import argparse\n",
    "import os\n",
    "\n"
   ]
  },
  {
   "cell_type": "code",
   "execution_count": 64,
   "id": "96fb23f2",
   "metadata": {},
   "outputs": [],
   "source": [
    "Datadir = 'C:/Users/vtshu/Downloads/simulator-windows-64'\n",
    "\n",
    "data_df = pd.read_csv(os.path.join(Datadir, 'driving_log.csv'), names=['center', 'left', 'right', 'steering', 'throttle', 'reverse', 'speed'])"
   ]
  },
  {
   "cell_type": "code",
   "execution_count": 75,
   "id": "d19194be",
   "metadata": {},
   "outputs": [
    {
     "data": {
      "text/html": [
       "<div>\n",
       "<style scoped>\n",
       "    .dataframe tbody tr th:only-of-type {\n",
       "        vertical-align: middle;\n",
       "    }\n",
       "\n",
       "    .dataframe tbody tr th {\n",
       "        vertical-align: top;\n",
       "    }\n",
       "\n",
       "    .dataframe thead th {\n",
       "        text-align: right;\n",
       "    }\n",
       "</style>\n",
       "<table border=\"1\" class=\"dataframe\">\n",
       "  <thead>\n",
       "    <tr style=\"text-align: right;\">\n",
       "      <th></th>\n",
       "      <th>center</th>\n",
       "      <th>left</th>\n",
       "      <th>right</th>\n",
       "      <th>steering</th>\n",
       "      <th>throttle</th>\n",
       "      <th>reverse</th>\n",
       "      <th>speed</th>\n",
       "    </tr>\n",
       "  </thead>\n",
       "  <tbody>\n",
       "    <tr>\n",
       "      <th>0</th>\n",
       "      <td>C:\\Users\\vtshu\\Downloads\\simulator-windows-64\\...</td>\n",
       "      <td>C:\\Users\\vtshu\\Downloads\\simulator-windows-64...</td>\n",
       "      <td>C:\\Users\\vtshu\\Downloads\\simulator-windows-64...</td>\n",
       "      <td>0</td>\n",
       "      <td>0</td>\n",
       "      <td>0.0</td>\n",
       "      <td>0.000078</td>\n",
       "    </tr>\n",
       "    <tr>\n",
       "      <th>1</th>\n",
       "      <td>C:\\Users\\vtshu\\Downloads\\simulator-windows-64\\...</td>\n",
       "      <td>C:\\Users\\vtshu\\Downloads\\simulator-windows-64...</td>\n",
       "      <td>C:\\Users\\vtshu\\Downloads\\simulator-windows-64...</td>\n",
       "      <td>0</td>\n",
       "      <td>0</td>\n",
       "      <td>0.0</td>\n",
       "      <td>0.000080</td>\n",
       "    </tr>\n",
       "    <tr>\n",
       "      <th>2</th>\n",
       "      <td>C:\\Users\\vtshu\\Downloads\\simulator-windows-64\\...</td>\n",
       "      <td>C:\\Users\\vtshu\\Downloads\\simulator-windows-64...</td>\n",
       "      <td>C:\\Users\\vtshu\\Downloads\\simulator-windows-64...</td>\n",
       "      <td>0</td>\n",
       "      <td>0</td>\n",
       "      <td>0.0</td>\n",
       "      <td>0.000081</td>\n",
       "    </tr>\n",
       "    <tr>\n",
       "      <th>3</th>\n",
       "      <td>C:\\Users\\vtshu\\Downloads\\simulator-windows-64\\...</td>\n",
       "      <td>C:\\Users\\vtshu\\Downloads\\simulator-windows-64...</td>\n",
       "      <td>C:\\Users\\vtshu\\Downloads\\simulator-windows-64...</td>\n",
       "      <td>0</td>\n",
       "      <td>0</td>\n",
       "      <td>0.0</td>\n",
       "      <td>0.000082</td>\n",
       "    </tr>\n",
       "    <tr>\n",
       "      <th>4</th>\n",
       "      <td>C:\\Users\\vtshu\\Downloads\\simulator-windows-64\\...</td>\n",
       "      <td>C:\\Users\\vtshu\\Downloads\\simulator-windows-64...</td>\n",
       "      <td>C:\\Users\\vtshu\\Downloads\\simulator-windows-64...</td>\n",
       "      <td>0</td>\n",
       "      <td>0</td>\n",
       "      <td>0.0</td>\n",
       "      <td>0.000082</td>\n",
       "    </tr>\n",
       "  </tbody>\n",
       "</table>\n",
       "</div>"
      ],
      "text/plain": [
       "                                              center  \\\n",
       "0  C:\\Users\\vtshu\\Downloads\\simulator-windows-64\\...   \n",
       "1  C:\\Users\\vtshu\\Downloads\\simulator-windows-64\\...   \n",
       "2  C:\\Users\\vtshu\\Downloads\\simulator-windows-64\\...   \n",
       "3  C:\\Users\\vtshu\\Downloads\\simulator-windows-64\\...   \n",
       "4  C:\\Users\\vtshu\\Downloads\\simulator-windows-64\\...   \n",
       "\n",
       "                                                left  \\\n",
       "0   C:\\Users\\vtshu\\Downloads\\simulator-windows-64...   \n",
       "1   C:\\Users\\vtshu\\Downloads\\simulator-windows-64...   \n",
       "2   C:\\Users\\vtshu\\Downloads\\simulator-windows-64...   \n",
       "3   C:\\Users\\vtshu\\Downloads\\simulator-windows-64...   \n",
       "4   C:\\Users\\vtshu\\Downloads\\simulator-windows-64...   \n",
       "\n",
       "                                               right  steering  throttle  \\\n",
       "0   C:\\Users\\vtshu\\Downloads\\simulator-windows-64...         0         0   \n",
       "1   C:\\Users\\vtshu\\Downloads\\simulator-windows-64...         0         0   \n",
       "2   C:\\Users\\vtshu\\Downloads\\simulator-windows-64...         0         0   \n",
       "3   C:\\Users\\vtshu\\Downloads\\simulator-windows-64...         0         0   \n",
       "4   C:\\Users\\vtshu\\Downloads\\simulator-windows-64...         0         0   \n",
       "\n",
       "   reverse     speed  \n",
       "0      0.0  0.000078  \n",
       "1      0.0  0.000080  \n",
       "2      0.0  0.000081  \n",
       "3      0.0  0.000082  \n",
       "4      0.0  0.000082  "
      ]
     },
     "execution_count": 75,
     "metadata": {},
     "output_type": "execute_result"
    }
   ],
   "source": [
    "data_df.head()\n"
   ]
  },
  {
   "cell_type": "code",
   "execution_count": 73,
   "id": "3ec2a80a",
   "metadata": {},
   "outputs": [
    {
     "name": "stdout",
     "output_type": "stream",
     "text": [
      "(85, 3)\n"
     ]
    }
   ],
   "source": [
    "X = data_df[['center', 'left', 'right']].values\n",
    "    #and our steering commands as our output data\n",
    "y = data_df['steering'].values\n",
    "\n",
    "    #now we can split the data into a training (80), testing(20), and validation set\n",
    "    #thanks scikit learn\n",
    "X_train, X_valid, y_train, y_valid = train_test_split(X, y, test_size=0.2, random_state=0)\n",
    "\n",
    "print(X_train.shape)"
   ]
  },
  {
   "cell_type": "code",
   "execution_count": 78,
   "id": "b2491da5",
   "metadata": {},
   "outputs": [
    {
     "name": "stdout",
     "output_type": "stream",
     "text": [
      "image shape (160, 320, 3)\n",
      "[[[[[185 145 116]\n",
      "    [185 145 116]\n",
      "    [184 144 115]\n",
      "    ...\n",
      "    [  6  13  10]\n",
      "    [ 21  24  22]\n",
      "    [  3   6   4]]\n",
      "\n",
      "   [[185 145 116]\n",
      "    [185 145 116]\n",
      "    [185 145 116]\n",
      "    ...\n",
      "    [ 11  18  15]\n",
      "    [ 14  19  17]\n",
      "    [  7  12  10]]\n",
      "\n",
      "   [[186 146 117]\n",
      "    [186 146 117]\n",
      "    [186 146 117]\n",
      "    ...\n",
      "    [ 18  24  23]\n",
      "    [  6  12  11]\n",
      "    [ 10  16  15]]\n",
      "\n",
      "   ...\n",
      "\n",
      "   [[111 115 109]\n",
      "    [ 99 103  97]\n",
      "    [106 110 104]\n",
      "    ...\n",
      "    [136 152 151]\n",
      "    [106 122 121]\n",
      "    [ 89 105 104]]\n",
      "\n",
      "   [[ 93  97  91]\n",
      "    [ 85  89  83]\n",
      "    [ 90  94  88]\n",
      "    ...\n",
      "    [ 85 101 100]\n",
      "    [ 73  89  88]\n",
      "    [ 85 101 100]]\n",
      "\n",
      "   [[ 91  95  89]\n",
      "    [ 93  97  91]\n",
      "    [101 105  99]\n",
      "    ...\n",
      "    [ 80  96  95]\n",
      "    [ 90 106 105]\n",
      "    [ 82  98  97]]]]]\n"
     ]
    }
   ],
   "source": [
    "training_data = []\n",
    "\n",
    "def create_training_data(Dataset):\n",
    "    for i in range(Dataset.shape[0]):\n",
    "        path_list = []\n",
    "        for j in Dataset[i]:           \n",
    "            \n",
    "            img = cv2.imread(j)\n",
    "            print(f'image shape {img.shape}')\n",
    "            path_list.append(img)           \n",
    "#             break\n",
    "        training_data.append(path_list) \n",
    "#         break\n",
    "create_training_data(X_train)\n",
    "\n",
    "print(np.array(training_data))\n",
    "        \n",
    "       \n",
    "    "
   ]
  },
  {
   "cell_type": "code",
   "execution_count": 40,
   "id": "99cbf37d",
   "metadata": {},
   "outputs": [
    {
     "ename": "SyntaxError",
     "evalue": "unexpected character after line continuation character (1998952769.py, line 1)",
     "output_type": "error",
     "traceback": [
      "\u001b[1;36m  Input \u001b[1;32mIn [40]\u001b[1;36m\u001b[0m\n\u001b[1;33m    C:\\Users\\vtshu\\Downloads\\simulator-windows-64\\IMG\\center_2022_07_17_22_21_42_122.jpg\u001b[0m\n\u001b[1;37m       ^\u001b[0m\n\u001b[1;31mSyntaxError\u001b[0m\u001b[1;31m:\u001b[0m unexpected character after line continuation character\n"
     ]
    }
   ],
   "source": [
    "C:\\Users\\vtshu\\Downloads\\simulator-windows-64\\IMG\\center_2022_07_17_22_21_42_122.jpg\n",
    "img_array = cv2.imread('C:/Users\\vtshu\\Downloads\\simulator-windows-64\\IMG\\center_2022_07_17_22_21_42_122.jpg',cv2.IMREAD_GRAYSCALE)"
   ]
  },
  {
   "cell_type": "code",
   "execution_count": null,
   "id": "6fab0111",
   "metadata": {},
   "outputs": [],
   "source": []
  }
 ],
 "metadata": {
  "kernelspec": {
   "display_name": "Python 3 (ipykernel)",
   "language": "python",
   "name": "python3"
  },
  "language_info": {
   "codemirror_mode": {
    "name": "ipython",
    "version": 3
   },
   "file_extension": ".py",
   "mimetype": "text/x-python",
   "name": "python",
   "nbconvert_exporter": "python",
   "pygments_lexer": "ipython3",
   "version": "3.9.13"
  }
 },
 "nbformat": 4,
 "nbformat_minor": 5
}
