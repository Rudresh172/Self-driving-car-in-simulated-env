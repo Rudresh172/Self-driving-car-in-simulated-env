{
 "cells": [
  {
   "cell_type": "code",
   "execution_count": 30,
   "id": "a0ba0fc7",
   "metadata": {},
   "outputs": [],
   "source": [
    "import pandas as pd\n",
    "import numpy as np\n",
    "from sklearn.model_selection import train_test_split\n",
    "# from keras.models import Sequential\n",
    "# from keras.optimizers import Adam\n",
    "# from keras.callbacks import ModelCheckpoint\n",
    "# from keras.layers import Lambda, Conv2D, MaxPooling2D, Dropout, Dense, Flatten\n",
    "from skimage import io\n",
    "import cv2\n",
    "from utils import INPUT_SHAPE, batch_generator\n",
    "import argparse\n",
    "import os\n",
    "\n"
   ]
  },
  {
   "cell_type": "code",
   "execution_count": 31,
   "id": "96fb23f2",
   "metadata": {},
   "outputs": [],
   "source": [
    "Datadir = 'C:/Users/vtshu/Downloads/simulator-windows-64'\n",
    "\n",
    "data_df = pd.read_csv(os.path.join(Datadir, 'driving_log.csv'), names=['center', 'left', 'right', 'steering', 'throttle', 'reverse', 'speed'])"
   ]
  },
  {
   "cell_type": "code",
   "execution_count": 32,
   "id": "d19194be",
   "metadata": {},
   "outputs": [
    {
     "data": {
      "text/html": [
       "<div>\n",
       "<style scoped>\n",
       "    .dataframe tbody tr th:only-of-type {\n",
       "        vertical-align: middle;\n",
       "    }\n",
       "\n",
       "    .dataframe tbody tr th {\n",
       "        vertical-align: top;\n",
       "    }\n",
       "\n",
       "    .dataframe thead th {\n",
       "        text-align: right;\n",
       "    }\n",
       "</style>\n",
       "<table border=\"1\" class=\"dataframe\">\n",
       "  <thead>\n",
       "    <tr style=\"text-align: right;\">\n",
       "      <th></th>\n",
       "      <th>center</th>\n",
       "      <th>left</th>\n",
       "      <th>right</th>\n",
       "      <th>steering</th>\n",
       "      <th>throttle</th>\n",
       "      <th>reverse</th>\n",
       "      <th>speed</th>\n",
       "    </tr>\n",
       "  </thead>\n",
       "  <tbody>\n",
       "    <tr>\n",
       "      <th>0</th>\n",
       "      <td>C:\\Users\\vtshu\\Downloads\\simulator-windows-64\\...</td>\n",
       "      <td>C:\\Users\\vtshu\\Downloads\\simulator-windows-64...</td>\n",
       "      <td>C:\\Users\\vtshu\\Downloads\\simulator-windows-64...</td>\n",
       "      <td>0</td>\n",
       "      <td>0</td>\n",
       "      <td>0.0</td>\n",
       "      <td>0.000078</td>\n",
       "    </tr>\n",
       "    <tr>\n",
       "      <th>1</th>\n",
       "      <td>C:\\Users\\vtshu\\Downloads\\simulator-windows-64\\...</td>\n",
       "      <td>C:\\Users\\vtshu\\Downloads\\simulator-windows-64...</td>\n",
       "      <td>C:\\Users\\vtshu\\Downloads\\simulator-windows-64...</td>\n",
       "      <td>0</td>\n",
       "      <td>0</td>\n",
       "      <td>0.0</td>\n",
       "      <td>0.000080</td>\n",
       "    </tr>\n",
       "    <tr>\n",
       "      <th>2</th>\n",
       "      <td>C:\\Users\\vtshu\\Downloads\\simulator-windows-64\\...</td>\n",
       "      <td>C:\\Users\\vtshu\\Downloads\\simulator-windows-64...</td>\n",
       "      <td>C:\\Users\\vtshu\\Downloads\\simulator-windows-64...</td>\n",
       "      <td>0</td>\n",
       "      <td>0</td>\n",
       "      <td>0.0</td>\n",
       "      <td>0.000081</td>\n",
       "    </tr>\n",
       "    <tr>\n",
       "      <th>3</th>\n",
       "      <td>C:\\Users\\vtshu\\Downloads\\simulator-windows-64\\...</td>\n",
       "      <td>C:\\Users\\vtshu\\Downloads\\simulator-windows-64...</td>\n",
       "      <td>C:\\Users\\vtshu\\Downloads\\simulator-windows-64...</td>\n",
       "      <td>0</td>\n",
       "      <td>0</td>\n",
       "      <td>0.0</td>\n",
       "      <td>0.000082</td>\n",
       "    </tr>\n",
       "    <tr>\n",
       "      <th>4</th>\n",
       "      <td>C:\\Users\\vtshu\\Downloads\\simulator-windows-64\\...</td>\n",
       "      <td>C:\\Users\\vtshu\\Downloads\\simulator-windows-64...</td>\n",
       "      <td>C:\\Users\\vtshu\\Downloads\\simulator-windows-64...</td>\n",
       "      <td>0</td>\n",
       "      <td>0</td>\n",
       "      <td>0.0</td>\n",
       "      <td>0.000082</td>\n",
       "    </tr>\n",
       "  </tbody>\n",
       "</table>\n",
       "</div>"
      ],
      "text/plain": [
       "                                              center  \\\n",
       "0  C:\\Users\\vtshu\\Downloads\\simulator-windows-64\\...   \n",
       "1  C:\\Users\\vtshu\\Downloads\\simulator-windows-64\\...   \n",
       "2  C:\\Users\\vtshu\\Downloads\\simulator-windows-64\\...   \n",
       "3  C:\\Users\\vtshu\\Downloads\\simulator-windows-64\\...   \n",
       "4  C:\\Users\\vtshu\\Downloads\\simulator-windows-64\\...   \n",
       "\n",
       "                                                left  \\\n",
       "0   C:\\Users\\vtshu\\Downloads\\simulator-windows-64...   \n",
       "1   C:\\Users\\vtshu\\Downloads\\simulator-windows-64...   \n",
       "2   C:\\Users\\vtshu\\Downloads\\simulator-windows-64...   \n",
       "3   C:\\Users\\vtshu\\Downloads\\simulator-windows-64...   \n",
       "4   C:\\Users\\vtshu\\Downloads\\simulator-windows-64...   \n",
       "\n",
       "                                               right  steering  throttle  \\\n",
       "0   C:\\Users\\vtshu\\Downloads\\simulator-windows-64...         0         0   \n",
       "1   C:\\Users\\vtshu\\Downloads\\simulator-windows-64...         0         0   \n",
       "2   C:\\Users\\vtshu\\Downloads\\simulator-windows-64...         0         0   \n",
       "3   C:\\Users\\vtshu\\Downloads\\simulator-windows-64...         0         0   \n",
       "4   C:\\Users\\vtshu\\Downloads\\simulator-windows-64...         0         0   \n",
       "\n",
       "   reverse     speed  \n",
       "0      0.0  0.000078  \n",
       "1      0.0  0.000080  \n",
       "2      0.0  0.000081  \n",
       "3      0.0  0.000082  \n",
       "4      0.0  0.000082  "
      ]
     },
     "execution_count": 32,
     "metadata": {},
     "output_type": "execute_result"
    }
   ],
   "source": [
    "data_df.head()\n"
   ]
  },
  {
   "cell_type": "code",
   "execution_count": 35,
   "id": "3ec2a80a",
   "metadata": {},
   "outputs": [
    {
     "data": {
      "text/plain": [
       "'C:\\\\Users\\\\vtshu\\\\Downloads\\\\simulator-windows-64\\\\IMG\\\\center_2022_07_18_00_05_23_368.jpg'"
      ]
     },
     "execution_count": 35,
     "metadata": {},
     "output_type": "execute_result"
    }
   ],
   "source": [
    "X = data_df[['center', 'left', 'right']].values\n",
    "    #and our steering commands as our output data\n",
    "y = data_df['steering'].values\n",
    "\n",
    "    #now we can split the data into a training (80), testing(20), and validation set\n",
    "    #thanks scikit learn\n",
    "X_train_path, X_test_path, y_train, y_test = train_test_split(X, y, test_size=0.2, random_state=0)\n",
    "X_train_path[0][0]\n"
   ]
  },
  {
   "cell_type": "code",
   "execution_count": 29,
   "id": "b2491da5",
   "metadata": {},
   "outputs": [
    {
     "name": "stdout",
     "output_type": "stream",
     "text": [
      "(160, 320, 3)\n",
      "(85, 3)\n",
      "(22, 3)\n",
      "(85,)\n",
      "(22,)\n"
     ]
    },
    {
     "name": "stderr",
     "output_type": "stream",
     "text": [
      "C:\\Users\\vtshu\\AppData\\Local\\Temp\\ipykernel_10856\\549280733.py:20: VisibleDeprecationWarning: Creating an ndarray from ragged nested sequences (which is a list-or-tuple of lists-or-tuples-or ndarrays with different lengths or shapes) is deprecated. If you meant to do this, you must specify 'dtype=object' when creating the ndarray.\n",
      "  print(np.shape(np.array(X_train)))\n",
      "C:\\Users\\vtshu\\AppData\\Local\\Temp\\ipykernel_10856\\549280733.py:21: VisibleDeprecationWarning: Creating an ndarray from ragged nested sequences (which is a list-or-tuple of lists-or-tuples-or ndarrays with different lengths or shapes) is deprecated. If you meant to do this, you must specify 'dtype=object' when creating the ndarray.\n",
      "  print(np.shape(np.array(X_test)))\n"
     ]
    }
   ],
   "source": [
    "def convert_data(Dataset):\n",
    "    numset = []\n",
    "    for i in range(Dataset.shape[0]):\n",
    "        path_list = []\n",
    "        for j in Dataset[i]:           \n",
    "            \n",
    "            img = cv2.imread(j)\n",
    "            #print(f'image shape {img.shape}')\n",
    "            path_list.append(img)           \n",
    "#             break\n",
    "        numset.append(path_list)\n",
    "    return numset\n",
    "#         break\n",
    "X_train = convert_data(X_train_path)\n",
    "X_test = convert_data(X_test_path)\n",
    "\n",
    "# print(np.shape(np.array(training_data)))\n",
    "# print(len(y))\n",
    "print(np.shape(np.array(X_train[0][0])))        \n",
    "print(np.shape(np.array(X_train))) \n",
    "print(np.shape(np.array(X_test))) \n",
    "print(np.shape(np.array(y_train))) \n",
    "print(np.shape(np.array(y_test))) \n",
    "X_train = np.array(X_train).reshape(-1,3,160,320)\n",
    "X_test = np:array(X_test).reshape(-1,3,160)\n",
    "    "
   ]
  },
  {
   "cell_type": "code",
   "execution_count": null,
   "id": "99cbf37d",
   "metadata": {},
   "outputs": [],
   "source": []
  },
  {
   "cell_type": "code",
   "execution_count": null,
   "id": "6fab0111",
   "metadata": {},
   "outputs": [],
   "source": []
  }
 ],
 "metadata": {
  "kernelspec": {
   "display_name": "Python 3 (ipykernel)",
   "language": "python",
   "name": "python3"
  },
  "language_info": {
   "codemirror_mode": {
    "name": "ipython",
    "version": 3
   },
   "file_extension": ".py",
   "mimetype": "text/x-python",
   "name": "python",
   "nbconvert_exporter": "python",
   "pygments_lexer": "ipython3",
   "version": "3.9.13"
  }
 },
 "nbformat": 4,
 "nbformat_minor": 5
}
